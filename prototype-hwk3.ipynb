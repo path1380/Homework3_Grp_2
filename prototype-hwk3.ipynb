{
 "cells": [
  {
   "cell_type": "code",
   "execution_count": 1,
   "metadata": {
    "collapsed": true
   },
   "outputs": [],
   "source": [
    "%matplotlib inline\n",
    "\n",
    "import numpy as np\n",
    "import matplotlib.pyplot as plt"
   ]
  },
  {
   "cell_type": "markdown",
   "metadata": {},
   "source": [
    "# APPM 5720 - Homework 3\n",
    "\n",
    "### Goal\n",
    "Approximate a function f(x) on $[x_L, x_R]$ using Legendre polynomials of degree q.\n",
    "\n",
    "\\begin{equation*}\n",
    "f(x) \\approx \\sum_{k=0}^{q} c(k,i) P_k(r(x))\n",
    "\\end{equation*}\n",
    "\n",
    "### Unknowns \n",
    "$c(k,i)$, where $i$ refers to an element\n",
    "\n",
    "### Aproach\n",
    "Calculate the coefficients using the following relations:\n",
    "\n",
    "\\begin{equation*}\n",
    "\\int_{\\Omega_i} P_l(r)f(x)dx = \\int_{\\Omega_i} P_l(r) \\sum_{k=0}^{q}c(k,i)P_k(r)dx =  \\sum_{k=0}^{q}c(k,i) \\left( \\frac{1}{2} (x_i - x_{i-1}) \\right) \\int_{-1}^1 P_l(r)P_k(r)dr = \\frac{1}{2}c(l,i)(x_i-x_{i-1})\\frac{2}{2l+1}\n",
    "\\end{equation*}\n",
    "\n",
    "and\n",
    "\n",
    "\\begin{equation*}\n",
    "\\int_{\\Omega_i} P_l(r)f(x)dx = \\frac{1}{2}(x_i-x_{i-1})\\int_{-1}^1 P_l(r) f(x(r))df \\approx \\frac{1}{2}(x_i-x_{i-1})\\sum_{j=0}^q w_j P_l(r_j)f(x(r_j)),\n",
    "\\end{equation*}\n",
    "\n",
    "where $ l = 0, ..., q$. $P_l$ and $c$ are vectors of length q.\n",
    "\n",
    "Therefore\n",
    "\n",
    "\\begin{equation*}\n",
    "c(l,i) = \\frac{2l+1}{2} \\sum_{j=0}^q w_j P_l(r_j)f(x(r_j))\n",
    "\\end{equation*}\n",
    "\n",
    "The weights $w_j$ are acquired through the gauss_lobatto function. The evaluation points $x_j$ also come from the gauss_lobatto function but are mapped to $[x_L,x_R]$.\n",
    "\n",
    "\n",
    "### Note:\n",
    "This code only builds an approximation over a single element."
   ]
  },
  {
   "cell_type": "code",
   "execution_count": 2,
   "metadata": {
    "collapsed": true
   },
   "outputs": [],
   "source": [
    "# Import sympy code for gauss lobatto nodes\n",
    "from sympy.core import S, Dummy, pi\n",
    "from sympy.functions.combinatorial.factorials import factorial\n",
    "from sympy.functions.elementary.trigonometric import sin, cos\n",
    "from sympy.functions.elementary.miscellaneous import sqrt\n",
    "from sympy.functions.special.gamma_functions import gamma\n",
    "from sympy.polys.orthopolys import (legendre_poly, laguerre_poly,\n",
    "                                    hermite_poly, jacobi_poly)\n",
    "from sympy.polys.rootoftools import RootOf\n",
    "from sympy.core.compatibility import range"
   ]
  },
  {
   "cell_type": "code",
   "execution_count": 3,
   "metadata": {
    "collapsed": true
   },
   "outputs": [],
   "source": [
    "# Parameters\n",
    "num_grdpts = 3\n",
    "num_elems = num_grdpts - 1\n",
    "num_nodes = 15"
   ]
  },
  {
   "cell_type": "code",
   "execution_count": 4,
   "metadata": {
    "collapsed": true
   },
   "outputs": [],
   "source": [
    "# Calls from Input Control\n",
    "grdpts = np.array([0.0, 0.3, 1.0])\n",
    "degree_vec = np.array([12, 12])"
   ]
  },
  {
   "cell_type": "code",
   "execution_count": 5,
   "metadata": {
    "code_folding": [
     0
    ],
    "collapsed": true
   },
   "outputs": [],
   "source": [
    "def gauss_lobatto(n, n_digits):\n",
    "    r\"\"\"\n",
    "    Computes the Gauss-Lobatto quadrature [1]_ points and weights.\n",
    "\n",
    "    The Gauss-Lobatto quadrature approximates the integral:\n",
    "\n",
    "    .. math::\n",
    "        \\int_{-1}^1 f(x)\\,dx \\approx \\sum_{i=1}^n w_i f(x_i)\n",
    "\n",
    "    The nodes `x_i` of an order `n` quadrature rule are the roots of `P'_(n-1)`\n",
    "    and the weights `w_i` are given by:\n",
    "\n",
    "    .. math::\n",
    "        &w_i = \\frac{2}{n(n-1) \\left[P_{n-1}(x_i)\\right]^2},\\quad x\\neq\\pm 1\\\\\n",
    "        &w_i = \\frac{2}{n(n-1)},\\quad x=\\pm 1\n",
    "\n",
    "    Parameters\n",
    "    ==========\n",
    "\n",
    "    n : the order of quadrature\n",
    "\n",
    "    n_digits : number of significant digits of the points and weights to return\n",
    "\n",
    "    Returns\n",
    "    =======\n",
    "\n",
    "    (x, w) : the ``x`` and ``w`` are lists of points and weights as Floats.\n",
    "             The points `x_i` and weights `w_i` are returned as ``(x, w)``\n",
    "             tuple of lists.\n",
    "\n",
    "    Examples\n",
    "    ========\n",
    "\n",
    "    >>> from sympy.integrals.quadrature import gauss_lobatto\n",
    "    >>> x, w = gauss_lobatto(3, 5)\n",
    "    >>> x\n",
    "    [-1, 0, 1]\n",
    "    >>> w\n",
    "    [0.33333, 1.3333, 0.33333]\n",
    "    >>> x, w = gauss_lobatto(4, 5)\n",
    "    >>> x\n",
    "    [-1, -0.44721, 0.44721, 1]\n",
    "    >>> w\n",
    "    [0.16667, 0.83333, 0.83333, 0.16667]\n",
    "\n",
    "    See Also\n",
    "    ========\n",
    "\n",
    "    gauss_legendre,gauss_laguerre, gauss_gen_laguerre, gauss_hermite, gauss_chebyshev_t, gauss_chebyshev_u, gauss_jacobi\n",
    "\n",
    "    References\n",
    "    ==========\n",
    "\n",
    "    .. [1] http://en.wikipedia.org/wiki/Gaussian_quadrature#Gauss.E2.80.93Lobatto_rules\n",
    "    .. [2] http://people.math.sfu.ca/~cbm/aands/page_888.htm\n",
    "    TAKEN FROM SYMPY\n",
    "    \"\"\"\n",
    "    x = Dummy(\"x\")\n",
    "    p = legendre_poly(n-1, x, polys=True)\n",
    "    pd = p.diff(x)\n",
    "    xi = []\n",
    "    w = []\n",
    "    for r in pd.real_roots():\n",
    "        if isinstance(r, RootOf):\n",
    "            r = r.eval_rational(S(1)/10**(n_digits+2))\n",
    "        xi.append(r.n(n_digits))\n",
    "        w.append((2/(n*(n-1) * p.subs(x, r)**2)).n(n_digits))\n",
    "\n",
    "    xi.insert(0, -1)\n",
    "    xi.append(1)\n",
    "    w.insert(0, (S(2)/(n*(n-1))).n(n_digits))\n",
    "    w.append((S(2)/(n*(n-1))).n(n_digits))\n",
    "    return xi, w"
   ]
  },
  {
   "cell_type": "code",
   "execution_count": 6,
   "metadata": {
    "code_folding": [],
    "collapsed": true
   },
   "outputs": [],
   "source": [
    "def leg_eval(q,x):\n",
    "    '''\n",
    "    Evaluate Legendre polynomials of up to degree q at point x\n",
    "    '''\n",
    "    if q == 0:\n",
    "        return np.array([1])\n",
    "    elif q == 1:\n",
    "        return np.array([1,x])\n",
    "    else:\n",
    "        leg_arr = np.zeros([q])\n",
    "        leg_arr[0] = 1\n",
    "        leg_arr[1] = x\n",
    "        \n",
    "        # Recursion relation for higher order Leg. polynomials\n",
    "        for i in range(1,q-1):\n",
    "            leg_arr[i+1] = ((2*i+1)*x*leg_arr[i] - i*leg_arr[i-1])/(i+1)\n",
    "        return np.array(leg_arr)"
   ]
  },
  {
   "cell_type": "code",
   "execution_count": 7,
   "metadata": {
    "collapsed": true
   },
   "outputs": [],
   "source": [
    "def f(x):\n",
    "    return np.exp((x-2)**2/2)"
   ]
  },
  {
   "cell_type": "code",
   "execution_count": 8,
   "metadata": {},
   "outputs": [],
   "source": [
    "### --- Main computation --- ###\n",
    "### --- Acquire coefficients --- ###\n",
    "c = np.zeros([degree_vec[0], num_elems])\n",
    "\n",
    "# Precompute Ldgr polynomials at LGL nodes\n",
    "r_lgl, w_lgl = gauss_lobatto(num_nodes,16)\n",
    "r_lgl, w_lgl = np.array(r_lgl), np.array(w_lgl)\n",
    "\n",
    "lgdr_arr = np.zeros([degree_vec[0], num_nodes])\n",
    "for i in range(num_nodes):\n",
    "    lgdr_arr[:,i] = leg_eval(degree_vec[0], r_lgl[i])\n",
    "\n",
    "### For a single element i\n",
    "i = 0\n",
    "xL = grdpts[i]\n",
    "xR = grdpts[i+1]\n",
    "\n",
    "# Calculate f(x(r_j))\n",
    "# Map (xL, xR) -> (-1,1)\n",
    "x_lgl = 1/2*((xR-xL)*r_lgl + (xR+xL))\n",
    "x_lgl = x_lgl.astype(float)\n",
    "\n",
    "for l in range(degree_vec[0]):\n",
    "    for j in range(num_nodes):\n",
    "        c[l,i] += (2*l+1)/2 * w_lgl[j] * lgdr_arr[l,j] * f(x_lgl[j])"
   ]
  },
  {
   "cell_type": "code",
   "execution_count": 34,
   "metadata": {},
   "outputs": [
    {
     "data": {
      "image/png": "[encoded data removed]",
      "text/plain": [
       "<matplotlib.figure.Figure at 0x7ff7b456fc18>"
      ]
     },
     "metadata": {},
     "output_type": "display_data"
    },
    {
     "data": {
      "image/png": "[encoded data removed]",
      "text/plain": [
       "<matplotlib.figure.Figure at 0x7ff7b431ef28>"
      ]
     },
     "metadata": {},
     "output_type": "display_data"
    }
   ],
   "source": [
    "### --- Visualize true fcn values to approximation --- ###\n",
    "true_fcn = f(np.linspace(xL, xR, degree_vec[0]))\n",
    "\n",
    "r_dom = (2*np.linspace(xL,xR, degree_vec[0]) - (xR+xL))/(xR-xL)   #r(x) for the approximation\n",
    "approx_fcn = np.zeros([degree_vec[0]])\n",
    "for i in range(len(r_dom)):\n",
    "    approx_lgl = leg_eval(degree_vec[0], r_dom[i])\n",
    "    approx_fcn[i] = np.dot(c[:,0],approx_lgl)\n",
    "\n",
    "plt.figure()\n",
    "plt.plot(np.linspace(xL, xR, degree_vec[0]), true_fcn)\n",
    "plt.show()\n",
    "\n",
    "plt.figure()\n",
    "plt.plot(np.linspace(xL,xR, degree_vec[0]), approx_fcn, 'orange')\n",
    "plt.show()"
   ]
  },
  {
   "cell_type": "code",
   "execution_count": null,
   "metadata": {
    "collapsed": true
   },
   "outputs": [],
   "source": []
  }
 ],
 "metadata": {
  "kernelspec": {
   "display_name": "Python 3",
   "language": "python",
   "name": "python3"
  },
  "language_info": {
   "codemirror_mode": {
    "name": "ipython",
    "version": 3
   },
   "file_extension": ".py",
   "mimetype": "text/x-python",
   "name": "python",
   "nbconvert_exporter": "python",
   "pygments_lexer": "ipython3",
   "version": "3.6.3"
  },
  "varInspector": {
   "cols": {
    "lenName": 16,
    "lenType": 16,
    "lenVar": 40
   },
   "kernels_config": {
    "python": {
     "delete_cmd_postfix": "",
     "delete_cmd_prefix": "del ",
     "library": "var_list.py",
     "varRefreshCmd": "print(var_dic_list())"
    },
    "r": {
     "delete_cmd_postfix": ") ",
     "delete_cmd_prefix": "rm(",
     "library": "var_list.r",
     "varRefreshCmd": "cat(var_dic_list()) "
    }
   },
   "types_to_exclude": [
    "module",
    "function",
    "builtin_function_or_method",
    "instance",
    "_Feature"
   ],
   "window_display": false
  }
 },
 "nbformat": 4,
 "nbformat_minor": 2
}
