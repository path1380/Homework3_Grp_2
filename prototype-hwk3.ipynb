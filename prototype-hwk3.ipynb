{
 "cells": [
  {
   "cell_type": "code",
   "execution_count": 11,
   "metadata": {},
   "outputs": [],
   "source": [
    "%matplotlib inline\n",
    "\n",
    "import numpy as np\n",
    "import matplotlib.pyplot as plt"
   ]
  },
  {
   "cell_type": "code",
   "execution_count": 2,
   "metadata": {
    "collapsed": true
   },
   "outputs": [],
   "source": [
    "# Import sympy code for gauss lobatto nodes\n",
    "from sympy.core import S, Dummy, pi\n",
    "from sympy.functions.combinatorial.factorials import factorial\n",
    "from sympy.functions.elementary.trigonometric import sin, cos\n",
    "from sympy.functions.elementary.miscellaneous import sqrt\n",
    "from sympy.functions.special.gamma_functions import gamma\n",
    "from sympy.polys.orthopolys import (legendre_poly, laguerre_poly,\n",
    "                                    hermite_poly, jacobi_poly)\n",
    "from sympy.polys.rootoftools import RootOf\n",
    "from sympy.core.compatibility import range"
   ]
  },
  {
   "cell_type": "code",
   "execution_count": 3,
   "metadata": {
    "collapsed": true
   },
   "outputs": [],
   "source": [
    "# Parameters\n",
    "num_grdpts = 3\n",
    "num_elems = num_grdpts - 1\n",
    "num_nodes = 15"
   ]
  },
  {
   "cell_type": "code",
   "execution_count": 4,
   "metadata": {
    "collapsed": true
   },
   "outputs": [],
   "source": [
    "# Calls from Input Control\n",
    "grdpts = np.array([0.0, 0.3, 1.0])\n",
    "degree_vec = np.array([12, 12])"
   ]
  },
  {
   "cell_type": "code",
   "execution_count": 5,
   "metadata": {
    "code_folding": [
     0
    ],
    "collapsed": true
   },
   "outputs": [],
   "source": [
    "def gauss_lobatto(n, n_digits):\n",
    "    r\"\"\"\n",
    "    Computes the Gauss-Lobatto quadrature [1]_ points and weights.\n",
    "\n",
    "    The Gauss-Lobatto quadrature approximates the integral:\n",
    "\n",
    "    .. math::\n",
    "        \\int_{-1}^1 f(x)\\,dx \\approx \\sum_{i=1}^n w_i f(x_i)\n",
    "\n",
    "    The nodes `x_i` of an order `n` quadrature rule are the roots of `P'_(n-1)`\n",
    "    and the weights `w_i` are given by:\n",
    "\n",
    "    .. math::\n",
    "        &w_i = \\frac{2}{n(n-1) \\left[P_{n-1}(x_i)\\right]^2},\\quad x\\neq\\pm 1\\\\\n",
    "        &w_i = \\frac{2}{n(n-1)},\\quad x=\\pm 1\n",
    "\n",
    "    Parameters\n",
    "    ==========\n",
    "\n",
    "    n : the order of quadrature\n",
    "\n",
    "    n_digits : number of significant digits of the points and weights to return\n",
    "\n",
    "    Returns\n",
    "    =======\n",
    "\n",
    "    (x, w) : the ``x`` and ``w`` are lists of points and weights as Floats.\n",
    "             The points `x_i` and weights `w_i` are returned as ``(x, w)``\n",
    "             tuple of lists.\n",
    "\n",
    "    Examples\n",
    "    ========\n",
    "\n",
    "    >>> from sympy.integrals.quadrature import gauss_lobatto\n",
    "    >>> x, w = gauss_lobatto(3, 5)\n",
    "    >>> x\n",
    "    [-1, 0, 1]\n",
    "    >>> w\n",
    "    [0.33333, 1.3333, 0.33333]\n",
    "    >>> x, w = gauss_lobatto(4, 5)\n",
    "    >>> x\n",
    "    [-1, -0.44721, 0.44721, 1]\n",
    "    >>> w\n",
    "    [0.16667, 0.83333, 0.83333, 0.16667]\n",
    "\n",
    "    See Also\n",
    "    ========\n",
    "\n",
    "    gauss_legendre,gauss_laguerre, gauss_gen_laguerre, gauss_hermite, gauss_chebyshev_t, gauss_chebyshev_u, gauss_jacobi\n",
    "\n",
    "    References\n",
    "    ==========\n",
    "\n",
    "    .. [1] http://en.wikipedia.org/wiki/Gaussian_quadrature#Gauss.E2.80.93Lobatto_rules\n",
    "    .. [2] http://people.math.sfu.ca/~cbm/aands/page_888.htm\n",
    "    TAKEN FROM SYMPY\n",
    "    \"\"\"\n",
    "    x = Dummy(\"x\")\n",
    "    p = legendre_poly(n-1, x, polys=True)\n",
    "    pd = p.diff(x)\n",
    "    xi = []\n",
    "    w = []\n",
    "    for r in pd.real_roots():\n",
    "        if isinstance(r, RootOf):\n",
    "            r = r.eval_rational(S(1)/10**(n_digits+2))\n",
    "        xi.append(r.n(n_digits))\n",
    "        w.append((2/(n*(n-1) * p.subs(x, r)**2)).n(n_digits))\n",
    "\n",
    "    xi.insert(0, -1)\n",
    "    xi.append(1)\n",
    "    w.insert(0, (S(2)/(n*(n-1))).n(n_digits))\n",
    "    w.append((S(2)/(n*(n-1))).n(n_digits))\n",
    "    return xi, w"
   ]
  },
  {
   "cell_type": "code",
   "execution_count": 42,
   "metadata": {},
   "outputs": [],
   "source": [
    "def leg_eval(q,x):\n",
    "    '''\n",
    "    Evaluate Legendre polynomials of up to degree q at point x\n",
    "    '''\n",
    "    if q == 0:\n",
    "        return np.array([1])\n",
    "    elif q == 1:\n",
    "        return np.array([1,x])\n",
    "    else:\n",
    "        leg_arr = np.zeros([q])\n",
    "        leg_arr[0] = 1\n",
    "        leg_arr[1] = x\n",
    "        \n",
    "        # Recursion relation for higher order Leg. polynomials\n",
    "        for i in range(1,q-1):\n",
    "            leg_arr[i+1] = ((2*i+1)*x*leg_arr[i] - i*leg_arr[i-1])/(i+1)\n",
    "        return np.array(leg_arr)"
   ]
  },
  {
   "cell_type": "code",
   "execution_count": 6,
   "metadata": {
    "collapsed": true
   },
   "outputs": [],
   "source": [
    "def f(x):\n",
    "    return np.exp((x-2)**2/2)"
   ]
  },
  {
   "cell_type": "code",
   "execution_count": 53,
   "metadata": {},
   "outputs": [],
   "source": [
    "for i in np.arange(num_elems):\n",
    "    # Element characteristics\n",
    "    lt_endpt = grdpts[i]\n",
    "    rt_endpt = grdpts[i+1]\n",
    "    q = degree_vec[i]\n",
    "    a = np.zeros([q])\n",
    "    viz_a = np.zeros([q,q])\n",
    "    \n",
    "    # --- Start building weights for the approximation --- ###\n",
    "    # Acquire Gauss-Lobatto (LGL) nodes\n",
    "    leg_nodes, leg_weights = gauss_lobatto(q,16)\n",
    "    leg_nodes = np.array(leg_nodes, dtype=float)\n",
    "    \n",
    "    # Evaluate function on nodes mapped onto the x-domain\n",
    "    x_nodes = 0.5 * (leg_nodes*(rt_endpt - lt_endpt) + (rt_endpt + lt_endpt))\n",
    "    fcn_vals = np.zeros([q])\n",
    "    for j in range(len(fcn_vals)):     # Should be vectorized, but is broken\n",
    "        fcn_vals[j] = f(x_nodes[j])\n",
    "    \n",
    "    # Build integral approximation (the RHS of the problem statement) by node\n",
    "    for j in range(q):\n",
    "        leg_eval_arr = leg_eval(q, leg_nodes[j])       # Returns array (len q) of lgdr evaluations at a node\n",
    "#         if i == 0:\n",
    "#             print(j, leg_eval_arr)\n",
    "        a = a + leg_eval_arr*leg_weights[j]*fcn_vals[j]\n",
    "                # Note: leg_eval_arr and leg_weights are evaluated on r = [-1,1]\n",
    "                #       fcn_vals is evaluated on x = [xl, xr]\n",
    "        viz_a[j,:] = a.copy()\n",
    "    \n",
    "    # Rescale a (See Orthogonality on Wiki for Ldgr poly)\n",
    "    for j in range(len(a)):\n",
    "        a[j] = 0.5*(2*j + 1)*a[j]\n",
    "        \n",
    "        \n",
    "    ### --- Start Approximation Calculation --- ###\n",
    "    sample_nodes = np.linspace(lt_endpt, rt_endpt, num_nodes)\n",
    "    \n",
    "#     print(fcn_array)"
   ]
  },
  {
   "cell_type": "code",
   "execution_count": 18,
   "metadata": {},
   "outputs": [
    {
     "data": {
      "image/png": "[encoded data removed]",
      "text/plain": [
       "<matplotlib.figure.Figure at 0x7f5ecd2dc588>"
      ]
     },
     "metadata": {},
     "output_type": "display_data"
    },
    {
     "data": {
      "image/png": "[encoded data removed]",
      "text/plain": [
       "<matplotlib.figure.Figure at 0x7f5ecd775438>"
      ]
     },
     "metadata": {},
     "output_type": "display_data"
    }
   ],
   "source": [
    "plt.figure()\n",
    "plt.scatter(leg_nodes, leg_weights)\n",
    "plt.title('LGL Node Locations vs LGL Node Weights')\n",
    "plt.show()\n",
    "\n",
    "plt.figure()\n",
    "plt.scatter(x_nodes, fcn_vals)\n",
    "plt.title('x-Domain Node Locations vs Function')\n",
    "plt.show()\n",
    "\n",
    "plt.figure()\n",
    "plt.scatter()"
   ]
  },
  {
   "cell_type": "code",
   "execution_count": 31,
   "metadata": {},
   "outputs": [
    {
     "name": "stdout",
     "output_type": "stream",
     "text": [
      "12.0\n"
     ]
    }
   ],
   "source": []
  }
 ],
 "metadata": {
  "kernelspec": {
   "display_name": "Python 3",
   "language": "python",
   "name": "python3"
  },
  "language_info": {
   "codemirror_mode": {
    "name": "ipython",
    "version": 3
   },
   "file_extension": ".py",
   "mimetype": "text/x-python",
   "name": "python",
   "nbconvert_exporter": "python",
   "pygments_lexer": "ipython3",
   "version": "3.6.3"
  },
  "varInspector": {
   "cols": {
    "lenName": 16,
    "lenType": 16,
    "lenVar": 40
   },
   "kernels_config": {
    "python": {
     "delete_cmd_postfix": "",
     "delete_cmd_prefix": "del ",
     "library": "var_list.py",
     "varRefreshCmd": "print(var_dic_list())"
    },
    "r": {
     "delete_cmd_postfix": ") ",
     "delete_cmd_prefix": "rm(",
     "library": "var_list.r",
     "varRefreshCmd": "cat(var_dic_list()) "
    }
   },
   "types_to_exclude": [
    "module",
    "function",
    "builtin_function_or_method",
    "instance",
    "_Feature"
   ],
   "window_display": false
  }
 },
 "nbformat": 4,
 "nbformat_minor": 2
}
